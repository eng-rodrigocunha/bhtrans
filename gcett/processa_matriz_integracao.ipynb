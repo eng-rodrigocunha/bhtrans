{
 "cells": [
  {
   "attachments": {},
   "cell_type": "markdown",
   "metadata": {},
   "source": [
    "## Notebook de processamento de arquivo bruto da matriz de integração\n",
    "\n",
    "- Autor: Rodrigo Cunha (BT002004)\n",
    "- Descrição: Processa arquivo bruto desformatado da matriz de integração, extraído do CITOP, e o formata para publicação\n",
    "- Observação: Esse algoritmo ainda não foi validado pela Gerência de Controle, Estudos Tarifários e Tecnologia (GCETT-BT)"
   ]
  },
  {
   "attachments": {},
   "cell_type": "markdown",
   "metadata": {},
   "source": [
    "### Importação de bibliotecas"
   ]
  },
  {
   "cell_type": "code",
   "execution_count": null,
   "metadata": {},
   "outputs": [],
   "source": [
    "import pandas as pd"
   ]
  },
  {
   "attachments": {},
   "cell_type": "markdown",
   "metadata": {},
   "source": [
    "### Carregamento do arquivo e pré-limpeza do arquivo\n",
    "- Organiza as colunas do arquivo TXT\n",
    "- Altera os nomes das colunas do arquivo TXT"
   ]
  },
  {
   "cell_type": "code",
   "execution_count": null,
   "metadata": {},
   "outputs": [],
   "source": [
    "#Organização das colunas do arquivo TXT\n",
    "cs = [(5, 13),\n",
    "      (13, 53), \n",
    "      (53, 56),\n",
    "      (56, 63),\n",
    "      (63, 103),\n",
    "      (103, 109),\n",
    "      (109, 115),\n",
    "      (115, 123),\n",
    "      (123, 129),\n",
    "      (129, 134)]\n",
    "\n",
    "#Nomes das colunas do arquivo TXT\n",
    "head = ['Linha_Sub_Origem', 'Linha_Sub_Origem_Nome', 'Linha_Origem_Grupo', 'Linha_Sub_Destino', 'Linha_Sub_Destino_Nome', 'Linha_Destino_Grupo', 'Tarifa_1_2', 'Tarifa_1_2_Valor', 'Tarifa_2_1', 'Tarifa_2_1_Valor']\n",
    "\n",
    "#Nome do arquivo TXT\n",
    "file = 'Matriz - 28.07.22.TXT'\n",
    "\n",
    "#Leitura do arquivo TXT\n",
    "df_matriz_integracao = pd.read_fwf(file, encoding='Windows-1252', colspecs=cs, names=head, skipinitialspace=True, skiprows=3)\n",
    "df_matriz_integracao"
   ]
  },
  {
   "attachments": {},
   "cell_type": "markdown",
   "metadata": {},
   "source": [
    "### Limpeza do arquivo\n",
    "- Remove linhas em branco\n",
    "- Remove linhas repetidas\n",
    "- Reinicia o índice"
   ]
  },
  {
   "attachments": {},
   "cell_type": "markdown",
   "metadata": {},
   "source": [
    "- Remove linhas em branco"
   ]
  },
  {
   "cell_type": "code",
   "execution_count": null,
   "metadata": {},
   "outputs": [],
   "source": [
    "df_matriz_integracao.dropna(subset=['Linha_Sub_Origem'], inplace=True)\n",
    "df_matriz_integracao"
   ]
  },
  {
   "attachments": {},
   "cell_type": "markdown",
   "metadata": {},
   "source": [
    "- Remove linhas repetidas\n",
    "- Reinicia o índice"
   ]
  },
  {
   "cell_type": "code",
   "execution_count": null,
   "metadata": {},
   "outputs": [],
   "source": [
    "remove_data = ['Legenda', 'TarID1', 'TarID2', 'CITCE', 'Linha Or']\n",
    "df_matriz_integracao = df_matriz_integracao[~df_matriz_integracao['Linha_Sub_Origem'].str.contains('|'.join(remove_data))]\n",
    "df_matriz_integracao = df_matriz_integracao.reset_index(drop=True)\n",
    "df_matriz_integracao"
   ]
  },
  {
   "attachments": {},
   "cell_type": "markdown",
   "metadata": {},
   "source": [
    "### Tratamento do arquivo\n",
    "- Subdivide 'Linha_Sub' (linha+sub) em 'Linha' e 'Sublinha'\n",
    "- Elimina 'Linha_Sub' (linha+sub)\n",
    "- Ordena pelas linhas e sublinhas\n",
    "- Elimina integrações repetidas\n",
    "- Reinicia o índice"
   ]
  },
  {
   "attachments": {},
   "cell_type": "markdown",
   "metadata": {},
   "source": [
    "- Subdivide 'Linha_Sub' (linha+sub) em 'Linha' e 'Sublinha'"
   ]
  },
  {
   "cell_type": "code",
   "execution_count": null,
   "metadata": {},
   "outputs": [],
   "source": [
    "df_matriz_integracao[['Linha_Origem', 'Sublinha_Origem']] = df_matriz_integracao.loc[:,'Linha_Sub_Origem'].str.split('-', n=2, expand=True)\n",
    "df_matriz_integracao[['Linha_Destino', 'Sublinha_Destino']] = df_matriz_integracao.loc[:,'Linha_Sub_Destino'].str.split('-', n=2, expand=True)\n",
    "df_matriz_integracao"
   ]
  },
  {
   "attachments": {},
   "cell_type": "markdown",
   "metadata": {},
   "source": [
    "- Elimina 'Linha_Sub'"
   ]
  },
  {
   "cell_type": "code",
   "execution_count": null,
   "metadata": {},
   "outputs": [],
   "source": [
    "df_matriz_integracao = df_matriz_integracao.drop(columns=['Linha_Sub_Origem', 'Linha_Sub_Destino'])\n",
    "df_matriz_integracao"
   ]
  },
  {
   "attachments": {},
   "cell_type": "markdown",
   "metadata": {},
   "source": [
    "- Ordena pelas linhas e sublinhas"
   ]
  },
  {
   "cell_type": "code",
   "execution_count": null,
   "metadata": {},
   "outputs": [],
   "source": [
    "df_matriz_integracao = df_matriz_integracao.sort_values(by=['Linha_Origem', 'Sublinha_Origem', 'Linha_Destino', 'Sublinha_Destino'])\n",
    "df_matriz_integracao"
   ]
  },
  {
   "attachments": {},
   "cell_type": "markdown",
   "metadata": {},
   "source": [
    "- Elimina integrações repetidas observando 'Tarifa_1_2', 'Tarifa_1_2_Valor', 'Tarifa_2_1', 'Tarifa_2_1_Valor', 'Linha_Origem', e 'Linha_Destino' (ignora sublinhas)\n",
    "- Reinicia o índice"
   ]
  },
  {
   "cell_type": "code",
   "execution_count": null,
   "metadata": {},
   "outputs": [],
   "source": [
    "df_matriz_integracao = df_matriz_integracao.drop_duplicates(subset=['Tarifa_1_2', 'Tarifa_1_2_Valor', 'Tarifa_2_1', 'Tarifa_2_1_Valor', 'Linha_Origem', 'Linha_Destino'])\n",
    "df_matriz_integracao = df_matriz_integracao.reset_index(drop=True)\n",
    "df_matriz_integracao"
   ]
  },
  {
   "attachments": {},
   "cell_type": "markdown",
   "metadata": {},
   "source": [
    "### Salva o arquivo"
   ]
  },
  {
   "cell_type": "code",
   "execution_count": null,
   "metadata": {},
   "outputs": [],
   "source": [
    "df_matriz_integracao.to_csv('matriz_integracao_processada.csv', index=False, sep=';', encoding='Windows-1252')"
   ]
  }
 ],
 "metadata": {
  "kernelspec": {
   "display_name": "dbt-env",
   "language": "python",
   "name": "python3"
  },
  "language_info": {
   "codemirror_mode": {
    "name": "ipython",
    "version": 3
   },
   "file_extension": ".py",
   "mimetype": "text/x-python",
   "name": "python",
   "nbconvert_exporter": "python",
   "pygments_lexer": "ipython3",
   "version": "3.8.10 (tags/v3.8.10:3d8993a, May  3 2021, 11:48:03) [MSC v.1928 64 bit (AMD64)]"
  },
  "orig_nbformat": 4,
  "vscode": {
   "interpreter": {
    "hash": "33e06d4b8f68e8ae857c70769623bb6ffb3f916198587b2970acce004b925fa2"
   }
  }
 },
 "nbformat": 4,
 "nbformat_minor": 2
}
